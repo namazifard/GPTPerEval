# Machine Translation
# Openai

## Importing & Data

!pip install -q openai
!pip install -q sacrebleu

import pandas as pd
import sacrebleu
import openai
import time

en_file_path = "/content/drive/MyDrive/MTEval/English.txt"
pr_file_path = "/content/drive/MyDrive/MTEval/Persian.txt"

with open(en_file_path, "r") as file:
    english = [line.strip() for line in file]

with open(pr_file_path, "r") as file:
    persian = [line.strip() for line in file]

## Sentences

### English

en_sentences_50 = [
    '"in the heat and sands of India, the mud and swamp of Africa, the purlieus of London, wherever in short the climate or the devil tempts men to fall from the true belief which is her own is even now engaged in dashing down shrines, smashing idols, and setting up in their place her own stern countenance."',
    'Conversion is her name',
    '"she feasts on the wills of the weakly, loving to impress, to impose, adoring her own features stamped on the face of the populace."',
    'At Hyde Park Corner on a tub she stands preaching;',
    '"shrouds herself in white and walks penitentially disguised as brotherly love through factories and parliaments; offers help, but desires power;"',
    '"smites out of her way roughly the dissentient, or dissatisfied; bestows her blessing on those who, looking upward, catch submissively from her eyes the light of their own."',
    '"This lady too Rezia Warren Smith divined it had her dwelling in Sir William\'s heart, though concealed, as she mostly is, under some plausible disguise; some venerable name; love, duty, self sacrifice."',
    'How he would work',
    '"how toil to raise funds, propagate reforms, initiate institutions!"',
    '"But conversion, fastidious Goddess, loves blood better than brick, and feasts most subtly on the human will."',
    '"For example, Lady Bradshaw."',
    'Fifteen years ago she had gone under.',
    '"It was nothing you could put your finger on; there had been no scene, no snap; only the slow sinking, water logged, of her will into his."',
    '"Sweet was her smile, swift her submission; dinner in Harley Street, numbering eight or nine courses, feeding ten or fifteen guests of the professional classes, was smooth and urbane."',
    '"Only as the evening wore on a very slight dulness, or uneasiness perhaps, a nervous twitch, fumble, stumble and confusion indicated, what it was really painful to believe"',
    'that the poor lady lied.',
    '"Once, long ago, she had caught salmon freely:"',
    '"now, quick to minister to the craving which lit her husband\'s eye so oilily for dominion, for power, she cramped, squeezed, pared, pruned, drew back, peeped through; so that without knowing precisely what made the evening disagreeable, and caused this pressure on the top of the head which might well be imputed to the professional conversation, or the fatigue of a great doctor whose life, Lady Bradshaw said, is not his own but his patients\' disagreeable it was:"',
    '"so that guests, when the clock struck ten, breathed in the air of Harley Street even with rapture; which relief, however, was denied to his patients."',
    '"There in the grey room, with the pictures on the wall, and the valuable furniture, under the ground glass skylight, they learnt the extent of their transgressions; huddled up in arm chairs, they watched him go through, for their benefit, a curious exercise with the arms, which he shot out, brought sharply back to his hip, to prove if the patient was obstinate that Sir William was master of his own actions, which the patient was not."',
    '"There some weakly broke down; sobbed, submitted;"',
    '"others, inspired by Heaven knows what intemperate madness, called Sir William to his face a damnable humbug; questioned, even more impiously, life itself."',
    'Why live?',
    'Sir William replied that life was good.',
    '"Certainly Lady Bradshaw in ostrich feathers hung over the mantelpiece, and as for his income it was quite twelve thousand a year."',
    '"But to us, they protested, life has given no such bounty."',
    'He acquiesced.',
    'They lacked a sense of proportion.',
    '"And perhaps, after all, there is no God?"',
    'He shrugged his shoulders.',
    '"In short, this living or not living is an affair of our own?"',
    'But there they were mistaken.',
    '"Sir William had a friend in Surrey where they taught, what Sir William frankly admitted was a difficult art"',
    'a sense of proportion.',
    '"There were, moreover, family affection; honour; courage; and a brilliant career."',
    'All of these had in Sir William a resolute champion.',
    '"If they failed him,"',
    '"he had to support police and the good of society, which, he remarked very quietly, would take care, down in Surrey, that these unsocial impulses, bred more than anything by the lack of good blood, were held in control."',
    '"And then stole out from her hiding place and mounted her throne that Goddess whose lust is to override opposition, to stamp indelibly in the sanctuaries of others the image of herself."',
    '"Naked, defenceless, the exhausted, the friendless received the impress of Sir William\'s will."',
    'He swooped;',
    'he devoured.',
    'He shut people up.',
    'It was this combination of decision and humanity that endeared Sir William so greatly to the relations of his victims.',
    '"But Rezia Warren Smith cried, walking down Harley Street, that she did not like that man."',
    '"Shredding and slicing, dividing and subdividing, the clocks of Harley Street nibbled at the June day, counselled submission, upheld authority, and pointed out in chorus the supreme advantages of a sense of proportion, until the mound of time was so far diminished that a commercial clock, suspended above a shop in Oxford Street, announced, genially and fraternally, as if it were a pleasure to Messrs."',
    '"Rigby and Lowndes to give the information gratis, that it was half past one."',
    '"Looking up, it appeared that each letter of their names stood for one of the hours;"',
    'subconsciously one was grateful to Rigby and Lowndes for giving one time ratified by Greenwich;',
    '"this gratitude so Hugh Whitbread ruminated, dallying there in front of the shop window , naturally took the form later of buying off Rigby and Lowndes socks or shoes."'
    ]

en_sentences_100 = [
    'So he ruminated.',
    'It was his habit.',
    'He did not go deeply.',
    '"He brushed surfaces; the dead languages, the living, life in Constantinople, Paris, Rome; riding, shooting, tennis, it had been once."',
    '"The malicious asserted that he now kept guard at Buckingham Palace, dressed in silk stockings and knee breeches, over what nobody knew."',
    'But he did it extremely efficiently.',
    'He had been afloat on the cream of English society for fifty five years.',
    'He had known Prime Ministers.',
    'His affections were understood to be deep.',
    '"if it were true that he had not taken part in any of the great movements of the time or held important office, one or two humble reforms stood to his credit;"',
    'an improvement in public shelters was one;',
    'the protection of owls in Norfolk another;',
    'servant girls had reason to be grateful to him;',
    '"his name at the end of letters to the Times, asking for funds, appealing to the public to protect, to preserve, to clear up litter, to abate smoke, and stamp out immorality in parks, commanded respect."',
    '"A magnificent figure he cut too, pausing for a moment"',
    '"as the sound of the half hour died away to look critically, magisterially, at socks and shoes; impeccable, substantial, as if he beheld the world from a certain eminence, and dressed to match;"',
    '"but realised the obligations which size, wealth, health, entail, and observed punctiliously even when not absolutely necessary, little courtesies, old fashioned ceremonies which gave a quality to his manner, something to imitate, something to remember him by,"',
    '"for he would never lunch, for example, with Lady Bruton, whom he had known these twenty years, without bringing her in his outstretched hand a bunch of carnations and asking Miss Brush, Lady Bruton\'s secretary, after her brother in South Africa, which, for some reason, Miss Brush, deficient though she was in every attribute of female charm, so much resented that she said"',
    '"Thank you, he\'s doing very well in South Africa,"',
    '"Lady Bruton herself preferred Richard Dalloway, who arrived at the next moment."',
    'Indeed they met on the doorstep.',
    'Lady Bruton preferred Richard Dalloway of course.',
    'He was made of much finer material.',
    "But she wouldn't let them run down her poor dear Hugh.",
    'She could never forget his kindness',
    'he had been really remarkably kind',
    'she forgot precisely upon what occasion.',
    'But he had been remarkably kind.',
    '"Anyhow, the difference between one man and another does not amount to much."',
    '"She had never seen the sense of cutting people up, as Clarissa Dalloway did"',
    'cutting them up and sticking them together again; not at any rate when one was sixty two.',
    "She took Hugh's carnations with her angular grim smile.",
    '"There was nobody else coming, she said."',
    '"She had got them there on false pretences, to help her out of a difficulty"',
    '"But let us eat first, she said."',
    '"so there began a soundless and exquisite passing to and fro through swing doors of aproned white capped maids, handmaidens not of necessity, but adepts in a mystery or grand deception practised by hostesses in Mayfair from one thirty to two, when, with a wave of the hand, the traffic ceases, and there rises instead this profound illusion"',
    'in the first place about the food how it is not paid for;',
    '"then that the table spreads itself voluntarily with glass and silver, little mats, saucers of red fruit; films of brown cream mask turbot; in casseroles severed chickens swim; coloured, undomestic, the fire burns; and with the wine and the coffee not paid for rise jocund visions before musing eyes; gently speculative eyes;"',
    '"eyes to whom life appears musical, mysterious; eyes now kindled to observe genially the beauty of the red carnations which Lady Bruton whose movements were always angular had laid beside her plate,"',
    '"so that Hugh Whitbread, feeling at peace with the entire universe and at the same time completely sure of his standing, said, resting his fork,"',
    "Wouldn't they look charming against your lace?",
    'Miss Brush resented this familiarity intensely.',
    'She thought him an underbred fellow.',
    'She made Lady Bruton laugh.',
    '"Lady Bruton raised the carnations,"',
    'holding them rather stiffly with much the same attitude with which the General held the scroll in the picture behind her;',
    '"Which was she now, the General\'s great grand daughter?"',
    'great great grand daughter?',
    '"Sir Roderick, Sir Miles, Sir Talbot that was it."',
    'It was remarkable how in that family the likeness persisted in the women.'
    ]

en_sentences_150 = [
    'She should have been a general of dragoons herself.',
    '"And Richard would have served under her, cheerfully;"',
    'he had the greatest respect for her;',
    '"he cherished these romantic views about well set up old women of pedigree, and would have liked, in his good humoured way, to bring some young hot heads of his acquaintance to lunch with her;"',
    'as if a type like hers could be bred of amiable tea drinking enthusiasts!',
    'He knew her country.',
    'He knew her people.',
    '"There was a vine, still bearing, which either Lovelace or Herrick she never read a word poetry of herself, but so the story ran had sat under."',
    '"Better wait to put before them the question that bothered her about making an appeal to the public; if so, in what terms and so on ,"',
    '"better wait until they have had their coffee, Lady Bruton thought; and so laid the carnations down beside her plate."',
    "How's Clarissa?",
    'she asked abruptly.',
    'Clarissa always said that Lady Bruton did not like her.',
    '"Indeed, Lady Bruton had the reputation of being more interested in politics than people;"',
    '"of talking like a man; of having had a finger in some notorious intrigue of the eighties, which was now beginning to be mentioned in memoirs."',
    '"Certainly there was an alcove in her drawing room, and a table in that alcove, and a photograph upon that table of General Sir Talbot Moore, now deceased, who had written there one evening in the eighties in Lady Bruton\'s presence, with her cognisance, perhaps advice, a telegram ordering the British troops to advance upon an historical occasion."',
    '"She kept the pen and told the story. Thus, when she said in her offhand way How\'s Clarissa?"',
    '"husbands had difficulty in persuading their wives and indeed, however devoted, were secretly doubtful themselves, of her interest in women who often got in their husbands\' way, prevented them from accepting posts abroad, and had to be taken to the seaside in the middle of the session to recover from influenza."',
    '"Nevertheless her inquiry, How\'s Clarissa? was known by women infallibly, to be a signal from a well wisher, from an almost silent companion, whose utterances half a dozen perhaps in the course of a lifetime signified recognition of some feminine comradeship which went beneath masculine lunch parties and united Lady Bruton and Mrs. Dalloway, who seldom met, and appeared when they did meet indifferent and even hostile, in a singular bond."',
    '"I met Clarissa in the Park this morning, said Hugh Whitbread, diving into the casserole, anxious to pay himself this little tribute, for he had only to come to London and he met everybody at once; but greedy, one of the greediest men she had ever known, Milly Brush thought, who observed men with unflinching rectitude, and was capable of everlasting devotion, to her own sex in particular, being knobbed, scraped, angular, and entirely without feminine charm."',
    "D'you know who's in town?",
    'said Lady Bruton suddenly bethinking her.',
    '"Our old friend, Peter Walsh."',
    'They all smiled.',
    'Peter Walsh!',
    '"And Mr. Dalloway was genuinely glad, Milly Brush thought; and Mr. Whitbread thought only of his chicken."',
    '"All three, Lady Bruton, Hugh Whitbread, and Richard Dalloway, remembered the same thing"',
    'how passionately Peter had been in love; been rejected; gone to India; come a cropper; made a mess of things;',
    'Richard Dalloway had a very great liking for the dear old fellow too.',
    '"Milly Brush saw that; saw a depth in the brown of his eyes; saw him hesitate; consider; which interested her, as Mr. Dalloway always interested her, for what was he thinking, she wondered, about Peter Walsh?"',
    '"That Peter Walsh had been in love with Clarissa; that he would go back directly after lunch and find Clarissa; that he would tell her, in so many words, that he loved her."',
    '"Yes, he would say that."',
    'Milly Brush once might almost have fallen in love with these silences; and Mr. Dalloway was always so dependable; such a gentleman too.',
    '"Now, being forty, Lady Bruton had only to nod, or turn her head a little abruptly,"',
    '"Milly Brush took the signal, however deeply she might be sunk in these reflections of a detached spirit, of an uncorrupted soul whom life could not bamboozle, because life had not offered her a trinket of the slightest value; not a curl, smile, lip, cheek, nose; nothing whatever; Lady Bruton had only to nod, and Perkins was instructed to quicken the coffee."',
    '"Yes; Peter Walsh has come back, said Lady Bruton."',
    'It was vaguely flattering to them all.',
    '"He had come back, battered, unsuccessful, to their secure shores."',
    '"But to help him, they reflected, was impossible;"',
    'there was some flaw in his character.',
    'Hugh Whitbread said one might of course mention his name to So and so.',
    '"He wrinkled lugubriously, consequentially, at the thought of the letters he would write to the heads of Government offices about my old friend, Peter Walsh, and so on."',
    '"But it wouldn\'t lead to anything not to anything permanent, because of his character."',
    '"In trouble with some woman, said Lady Bruton."',
    'They had all guessed that THAT was at the bottom of it.',
    '"However, we shall hear the whole story from Peter himself."',
    'The coffee was very slow in coming.',
    'The address?',
    'murmured Hugh Whitbread;',
    'They were waiting to bring the coffee until Mr. Whitbread had finished.'
]

en_sentences_200 = [
    '"Hugh was very slow, Lady Bruton thought."',
    '"He was getting fat, she noticed."',
    'Richard always kept himself in the pink of condition.',
    'She was getting impatient;',
    '"the whole of her being was setting positively, undeniably, domineeringly brushing aside all this unnecessary trifling Peter Walsh and his affairs upon that subject which engaged her attention, and not merely her attention,"',
    '"but that fibre which was the ramrod of her soul, that essential part of her without which Millicent Bruton would not have been Millicent Bruton;"',
    'that project for emigrating young people of both sexes born of respectable parents and setting them up with a fair prospect of doing well in Canada.',
    'She exaggerated.',
    'She had perhaps lost her sense of proportion.',
    '"Emigration was not to others the obvious remedy, the sublime conception."',
    '"It was not to them not to Hugh, or Richard, or even to devoted Miss Brush the liberator of the pent egotism,"',
    '"a strong martial woman, well nourished, well descended, of direct impulses, downright feelings, and little introspective power broad and simple"',
    'why could not every one be broad and simple?',
    '"youth is past, and must eject upon some object"',
    '"it may be Emigration, it may be Emancipation; but whatever it be, this object round which the essence of her soul is daily secreted, becomes inevitably prismatic, lustrous, half looking glass, half precious stone; now carefully hidden in case people should sneer at it; now proudly displayed."',
    '"Emigration had become, in short, largely Lady Bruton."',
    'But she had to write.',
    '"And one letter to the Times, she used to say to Miss Brush, cost her more than to organise an expedition to South Africa which she had done in the war ."',
    '"After a morning\'s battle beginning, tearing up, beginning again, she used to feel the futility of her own womanhood as she felt it on no other occasion, and would turn gratefully to the thought of Hugh Whitbread who possessed no one could doubt it"',
    'the art of writing letters to the Times.',
    '"A being so differently constituted from herself, with such a command of language; able to put things as editors like them put; had passions which one could not call simply greed."',
    '"Lady Bruton often suspended judgement upon men in deference to the mysterious accord in which they, but no woman, stood to the laws of the universe; knew how to put things; knew what was said;"',
    '"so that if Richard advised her, and Hugh wrote for her, she was sure of being somehow right."',
    '"So she let Hugh eat his souffle; asked after poor Evelyn; waited until they were smoking, and then said,"',
    '"Milly, would you fetch the papers?"',
    '"And Miss Brush went out, came back;"',
    'laid papers on the table; and Hugh produced his fountain pen;',
    '"his silver fountain pen, which had done twenty years\' service, he said, unscrewing the cap."',
    'It was still in perfect order;',
    'he had shown it to the makers;',
    '"there was no reason, they said,"',
    '"why it should ever wear out; which was somehow to Hugh\'s credit, and to the credit of the sentiments which his pen expressed so Richard Dalloway felt as Hugh began carefully writing capital letters with rings round them in the margin, and thus marvellously reduced Lady Bruton\'s tangles to sense, to grammar such as the editor of the Times, Lady Bruton felt, watching the marvellous transformation, must respect."',
    'Hugh was slow.',
    'Hugh was pertinacious.',
    'Richard said one must take risks.',
    '"Hugh proposed modifications in deference to people\'s feelings, which, he said rather tartly when Richard laughed, had to be considered, and read out how, therefore, we are of opinion that the times are ripe..."',
    '"which Richard thought all stuffing and bunkum,"',
    '"but no harm in it,"',
    '"of course, and Hugh went on drafting sentiments in alphabetical order of the highest nobility, brushing the cigar ash from his waistcoat, and summing up now and then the progress they had made until, finally, he read out the draft of a letter which Lady Bruton felt certain was a masterpiece."',
    'Could her own meaning sound like that?',
    'Hugh could not guarantee that the editor would put it in; but he would be meeting somebody at luncheon.',
    '"Whereupon Lady Bruton, who seldom did a graceful thing, stuffed all Hugh\'s carnations into the front of her dress, and flinging her hands out called him"',
    'What she would have done without them both she did not know.',
    'They rose.',
    '"And Richard Dalloway strolled off as usual to have a look at the General\'s portrait, because he meant, whenever he had a moment of leisure, to write a history of Lady Bruton\'s family."',
    'And Millicent Bruton was very proud of her family.',
    '"But they could wait, they could wait, she said, looking at the picture;"',
    '"meaning that her family, of military men, administrators, admirals, had been men of action, who had done their duty;"',
    '"Richard\'s first duty was to his country, but it was a fine face, she said;"',
    'all the papers were ready for Richard down at Aldmixton whenever the time came; the Labour Government she meant.'
]

### Persian

pr_sentences_50 = [
    "در گرما و ماسه هایس هندوستان، گل و باتلاق آفریقا، حواشی لندن، هر جا کهخلاصه اقلیم یا شیطان انسانتن‌ها را وسوسه می‌کند تا از صراط راستینی که از آن اوست بلغزند حتی در همین لحظه مشغول پایین کشیدن محراب‌ها، خرد کردن بت‌ها و بر پا کردن چهرة عبوس خود به جای آن‌هاست.",
    "نامش همکیش گردانی است",
    "از ارادة ضعیفان سور خویش فراهم می‌آورد، عاشق تاثیر گذاشتن است، تحمیل کردن، ستایش وجنات خویش که به صورت عوام الناس مهر شده است.",
    "در هاید پارک کرنر بر گلدانی ایستاده موعظه می‌کند؛",
    "پیچیده در دایی سفید به نشان توبه با لباس مبدل عشق برادرانه در کارخانه‌ها و مجالس قانونگذاری راه می‌رود؛ پیشنهاد کمک می‌کند، اما طالب قدرت است.",
    "مخالفان، یا ناراضیان را با خشونت از سر راه خود کنار میزند؛ دعای خیر خود را نثار آنان می‌کند که رو به بالاکرده، مطیعانه فروغ چشمان خود را از چشمان او می‌گیرند.",
    "این بانو هم رتزیا وارن اسمیت به فراست در یافت د قلب سر ویلیام جایداشت هر چند پنهان بود چنان که اغلب هست در لباس مبدلی موجه ناامی والا عشق وظیفه از خود گذشتگی.",
    "اماده که چه کارها بکند",
    "چه زحمت‌ها که بکشد تا منابع مالی را تامین کند اصطلاحات را ترویج کند نهادهایی به راه اندازد.",
    "اما همکیش گردانی ایزد بانوی سختگیر خون را بیش از خشت دوست دارد و به ظریف‌ترین وجهی اراده‌ی انسان را سفره‌ی سور خود می‌کند.",
    "نمونه‌اش لیدی بردشاو",
    "پانزده سال پیز فرو رفته بود",
    "چیزی نبود که بشود دقیقا بر ان انگشت گذاشت نه جنجالی نه ترق توروقی فقط فرو نشستن به طی اراده‌ی او بود غرقاب اراده‌ی سر ویلیام.",
    "لبخندش شیرین بود منقاد شدنش سریع شام در خیابان هارلی به تعدا هشت تا نه مرحله تغذیه ده پانزده مهمان از اهالی تخصص‌های گوناگون نرم و با نزاکت تمام.",
    "اما پاسی از شب که می‌گذشت گرفتگی بسیار مختصری یا شاید معذب بودنی پرشی عصبی تته پته‌ای تبقی و سردرگمی ای که چیزی را بر ملا می‌کرد که باور کردنش واقعا دردناک بود.",
    "اینکه بانوی بیچاره دروغ می‌گفت.",
    "زمانی، خیلی پیش، ازاد و رها به صید قزل الا می‌رفت",
    "حال‌تر و فرز اماده در خدمت عطش سلطه قدرت که چشمان شوهرش را به نوری چرب بر می‌افروخت جمع می‌شد فشرده می‌شد تقلیل می‌یافت هرس می‌شد واپس مینشست سرک می‌کشید طوری که ب یاینکه دقیقا معلوم باشد که چه چیزی ان شب را نامطبوع کرده و سب این فشار بر بالای سر شده که به احتمال زیاد می‌شد ان را به مکالمات حرفه‌ای نسبت داد یا خستگی پزش عالیقدری که زندگی‌اش به قول لیدی بردشاو مال خودش نیست بلکه مال بیمارانش است شبی نامطبوع می‌شد.",
    "طوری که مهمانان وقتی ساعت ده ضربه می‌زد هوای خیابان هارلی را می‌شد گفت با شعفی زایدالوصف فرو می‌بردند تسکینی که البته بیمارانش از ان محروم بودند.",
    "انجا در اتاق خاکستری با تابلوهای روی دیوار و اثاث گرانقیمت زیر نورگیر شیشه مات درجه‌ی انحرافشان را در میافتند گلوله شده در صندلی‌های راحتی تماشایش می‌کردند که برای انکه ببیند حرکت عجیبی با دست‌هایش می‌کند ان‌ها را سریع دراز می‌کرد به تندی به دو طرف راهنها بر می‌گرداند تا اگر بیمار سرسخت بود ثابت کند که سر ویلیام مسلط به امور خود است و بیمار نیست.",
    "اینجا بود که ادم‌های ضعیف در هم می‌شکستند به گریه می‌افتادند تسلیم می‌شدند.",
    "بقیه با الهام از خدا می‌داند کدام جنون مفرط رو در روی سر ویلیام او را شیاد ملعون می‌نامیدند با تکبری حتی بیشتر در خود زندگی چون و چرا می‌کردند.",
    "اصلا چرا زنده بمانند؟",
    "سر ویلیام پاسخ می‌داد که زندگی خودب است",
    "البته لیدی بردشاو با پرهای شترمرغ بر بالای بخاری اویزان بود و او هم که دوازده هزار تایی در سال در امد داشت اعتراض می‌کردند.",
    "اما زندگی به ما چنین نعمت‌هایی ارزانی نداشته است",
    "قبول می‌کرد",
    "ان‌ها درک از تناسب امور را از ست داده بودند",
    "تازه شاید هم از همه‌ی این حرف‌ها گذشته اصلا خدایی در کار نباشد؟",
    "شانه بالا می‌انداخت",
    "خلاصه مگر نه اینکه این زندگی کردن یا زندگی نکردن به خودمان مربوط می‌شود",
    "اما این یکی را اشتباه می‌کردند",
    "سر ویلیام در ساری دوستی داشت که در انجا چیزی را اموزش می‌داد که سر ویلیام با صداقت اذعان می‌کرد هنر دشواری است.",
    "درک از تناسب امور،",
    "علاوه بر این، محبت خویشان هم بود؛ شرافت؛ شجاعت؛ و اینه‌ی شغلی درخشان.",
    "همه‌ی این‌ها در سر ویلیام پرچمداری ثابت قدم داشت",
    "اگر از ان‌ها کاری بر نمیامد",
    "مجبور بود پلیس و خیر و صلاح جامعه را به حمایت خویش فراخواند که خیلی ارام خاطر نشان می‌کرد انجا در ساری مراقبت خواهند بود که این تکانه‌های غیر اجتماعی که بیش از هر چیز بر اثر فقدان اصل و نسب خوب نشو و نما می‌کنند مهار شوند.",
    "و بعد ان ایزد بانو که شهوت منکوب کردن مخالفت داشت کوباندن مهر پاک ناشدنی تصویر خویش در حریم دیگران، از نهانگاه خود بیرون می‌خزید و بر تخت خود جلوس می‌کرد.",
    "عریان بی دفاع از رمق افتادگان و بی کس ماندگان نشان اراده سر ویلیام را پذیرا می‌شدند.",
    "حمله ور می‌شد",
    "می‌بلعید.",
    "آدم‌ها را خفه می‌کرد.",
    "همین ترکیب عزم جزم و انسانیت بود که سر ویلیام را این همه در چشم خویشاوندان قربانیانش عزیز می‌کرد.",
    "امارتزیا وارن اسمیت در خیابان هارلی که می‌رفت فریاد می‌زد که آن مرد را دوست ندذراد.",
    "ساعت‌ها در خیابان هارلی ریزریز کنان و قطعه کنان در کار تقسیم و تقسیم دوباره روز ماه ژوئن را دندان می‌زدند توصیه به اطاعت می‌کردند اقتدار را تأیید می‌کردند و هماوا با هم مزایای عالی درک از تناسب اور را خاطرنشان می‌کردند تا وقتی که توده زمان چنان فروکاسته شد که ساعتی تبلغاتی آویخته بر فراز مغازه‌ای در خیابان اکسفورد با مهربانی و برادرانه اعلام کرد که ساعت یک و نیم است.",
    "گویی آقایان ریگبی و لوندیز از ارائه رایگان این اطلاعات مسرور باشند.",
    "به بالا که نگاه می‌کردی به نظر می‌رسید که هر حرف نامشان جای یی از اعدا ساعت است.",
    "نیم خودآگاه ممنون ریگبی و لوندیز می‌شد که وقتی به آدم خبر می‌دادند که به تأیید گرینیچ رسیده بود.",
    "این امتنان در ذهن هیو ویتربد که در مقابل ویترین مغازه به غور مشغول بود طبعا بعدش به شکل خریداری جوراب یا کفش از ریگبی و لوندیز بروز می‌کرد."
]

pr_sentences_100 = [
    "تأملات او چنین بود.",
    "عادتش بود.",
    "به عمق نمی‌رفت.",
    "بر سطح می‌سود زبانه‌ای مرده زنده زندگی در قسطنطنیه پاریس رم سواری تیراندازی تنیس زمانی چنین وبد.",
    "بدخواهان ادعا می‌کردند که حالا دم کاخ با کینگهام جوارب ابریشمی به پا یا بند جوراب پاسبانی معلوم نیست چه چیزی را می‌کند.",
    "اما این کار را با کفایت تمام انجام می‌داد.",
    "پنجاه و پنج سال بر بالاترین لایه جامعه انگستان غوطه ور بود.",
    "نخست وزیرها دیده بود.",
    "می‌گفتند که عواطفش عمیق است",
    "اگر این راست بود که در هیچ یک از حرکت‌های بزرگ زمانه شرکت نداشته یا در مقامی مهم نبوده افتخار یکی دو اصلاحات مختصر را داشت.",
    "یکیش بهبود سرپناه‌های عمومی بود",
    "حفاظت از جغدهای نورفوک",
    "یکی دیگره دختران خدمتکار به حق مدیون او بودند",
    "نامش پای نامه‌هایش به روزنامه تایمز که در آن‌ها خواستار کمک مالی شده بود مردم را به حفاظت نگهداری جمع آوری زباله کاستن از دود و امحای اعمال خلاف اخلاق در پارک‌ها فراخوانده بود احترام برمی انگیخت.",
    "ظاهری باشکوه هم داشت وقتی که لحظه‌ای مکث کرد",
    "آنگاه که زنگ نیم مستحیل می‌شد تا با نگاهی انقادی با نخوت به جوراب‌ها و کفش‌ها نگاه کند بی نقص متمکن گویی جهان را از مقامی رفیع می‌نگریست و خور همین موقع مقام لباس می‌پوشید.",
    "اما متوجه تعهداتی بود که اندازه ثروت سلامت به دنبال دارند و با دقت تمام حتی وقتی مطلقا لازم نبود احترامات مختصر مراسم منسوخ را به جا می‌آورد که کیفیتی به منش او می‌بخشید چیزی شایسته تقلید چیزی که از او به یاد می‌ماند.",
    "زیرا هرگز برای مثال نمی‌شد بخواهد با لیدی بروتن که بیست سال بود او را می‌شناخت ناهار بخورد بی آنکه دسته‌ای میخک در دستان دراز کرده‌اش برای او بیاورد و از دوشیزه به راش منشی لیدی بروتن حال برادرش را در آفریقای حنوبی بپرسد که دوشیره به راش گرچه در هر وجهی از جذابیت وقتی",
    "متشکرم اوضاعش در آفریقای جنوبی خوب است",
    "خود لیدی بروتن ریچارد دلوی را ترجیح می‌داد که همان لحظه سر رسید.",
    "در واقع دم در همدیگر را دیدند.",
    "لیدی بروتن البته ریچارد دلوی را ترجیح می‌داد.",
    "جنمیش بسیار بهتر بود.",
    "اما حاضر نبودد تحقیر هیوی طفلک نازنینش را به بید.",
    "نمی‌توانست محبت او را فراموش کند.",
    "واقعا به نهایت لطف کزده بود.",
    "دقیقا یادش نبود که در چه قضیه‌ای.",
    "اما به نهایت لطف کرده بود.",
    "در هر حال تفاوت یک مرد با مردی دیگر چندان زیاد نیست.",
    "هرگز نفهمیده بود که چرت باید آدم‌ها را زیر تیغ انتقاد گرفت کاری که کلاریسا دلوی مدام می‌کرد.",
    "ان‌ها را زیر تیغ می‌گرفت و دوباره به هم می‌چسباند آدم شصت و دو ساله باشد که ابدا.",
    "با آن لبخند عبوس و متکلفش میخک‌های هیو را گرفت.",
    "گفت که کس دیگری قرار نیست بیاید.",
    "به بهانه‌های واتی آن‌ها را کشانده بود تا کمکش کنند مشکلی را حل کند.",
    "اما اول غذا بخوریم گفت",
    "به این ترتیب رفت و آمد بی صدا و ماهرانه مستخدمه‌های پیشبند بسته وکلاه سفید بر سر از درهای دو لته‌ای شروع شد نه اینکه حتام ندیمه باشند کارکشتگان آیینی سری یا فریبی مجلل بودند که بانوان میزبان در می‌فیر از ساعت یک و نیم تا دو به جای می‌آوردند وقتی با تکان دستی جریان امد شد متوقف می‌شود و به جای آن توهمی عمیق برمیخزد.",
    "اول از همه درباره غذا اینکه پولی بابتش پرداخت نشه",
    "دیگر اینکه میز به اراده خود می‌گسترد باجامهای شیشه‌ای و نقره آلات زیر بشقابی‌های کوچک پیشدستهای پر از میوه سرخ ورقه‌های سپر ماهی زیر پوشش خامه‌های قهوه‌ای مرغ‌های تکه تکه شده در خوراک‌ها شناورند آتش رنگ آمیزی شده غیر خانگی می‌سوزد و با شراب و قهوه که پولی بابتش پرداخت نشده تصاویری شادی بخش در برابر چشمان فکور جان می‌گیرند.",
    "چشمانی نرم در کاوش چشمانی که زندگی در نظرشان موسیقی می‌نماید راز آلود چشمانی که حال برق می‌زنند و با مهر شاهد زیبایی میخک‌های سرخ می‌شوند که لیدی بروتن که حرکاتش همیشه خشک بود کنار بشقابش گذاشته بود.",
    "طوری که هیو ویتبرد که تمامی جهان در صلخ و در عین حال از موقعیت خود کاملا مطمئن بود چنگال که پایین می‌گذاشت گفت:؟",
    "کنار تورتان اگر باشند جلوه خاصی پیدا نمی‌کنند",
    "دوشیزه به راش از این خودمانی بود به شدن بیزار بود.",
    "به نظر او که مرد بی اصل و نسبی بود.",
    "این حرف‌هایش لیدی بروتن را به خنده می‌انداخت.",
    "لیدی بروتن میخک‌ها را برداشت.",
    "تقریبا شق و رق بیش و کم به همان ترتیبی که ژنرال در تابلو پشت سرش طومار را به دست گرفته بود آن‌ها را در دست گرفت مبهوت مجذوب باقی ماند.",
    "ریچارد دلوی از خود پرسید راستی چی بود نتیجه ژنرال؟",
    "نبیره ژنرال؟",
    "سر را در یک سر مایلز سر تالبوت خودش بود.",
    "عجیب بود که در این خانواده شباهت در زنان ادامه میافت.",
]

pr_sentences_150 = [
    "خود لیدی بروتن بایست ژنرال سو اره نظام می‌شد.",
    "و ریچارد هم با کمال میل تحت فرمانده‌ی او خدمت می‌کرد",
    "سخت به او احترام می‌گذاشت",
    "افکاری رمانتیک درباره زن سالخورده اصل و نسب دار خوش بنیه در سر داشت و بدش نمی‌آمد با همان خوش مشربی خاصش چندتا از آشنایان جوان آتشین مزجاش را با خود به مهمانی ناهار او بیاورد.",
    "گویی شخصیتی چون او را می‌شد از سینه چاکان خوش مشرب چای نوش پرورش داد!",
    "دلوی و سرزمین او را مشناخت.",
    "مردمان او را می‌شناخت",
    "تا کی بود هنوز بارآورد که لاویس یا هریک خودش هرگز شعر نمی‌خواند اما شنیده بود میگویند زیر آن نشسته بوده.",
    "بهتر است صبر کند پیش از اینکه موضوعی را که مایه دغدغه خاطرش شده بود با آن‌ها در میان بگذارد درباره متوسل شدن به عموم و اگر چنین کند به چه صورت و از این حرف‌ها",
    "لیدی پورتن در دل گفت بهتر است صبر کند تا قهوهشان را بخورند و بنابراین میخک‌ها را کنار بشقابش گذاشت.؟",
    "کلاریسا چطور است",
    "ناگهان پرسید ک",
    "لاریسا همیشه می‌گفت که لیدی بروتن از او خوشش نمی‌آید.",
    "در واقع هم شایه بود که لیدی بیشتر به سیاست علاقه مند است",
    "به آدم‌ها مثل مردها حرف میزند پایش در توطئه‌ای رسوا در دهه هستاد در میان است که اشاره به آن تازه داشت کم کم در خاطرات مکتوب دیگران پدیدار می‌شد.",
    "بی تردید شاه نشینی در اتاق پذیرایی‌اش بود و میزی در آن شاه نشین و عکسی روی آن میز از ژنرال تالبوت مور که دیگر از دنیا رفته بود که آنجا عصر هنگامی در دهه هستاد در حضور لیدی بروتن با وقوف او شاید به توصیه او تلگرامی نوشته و دستور پیشروی سپاهیان بریتانیا را در داقعه‌ای تاریخی صادر کرده بود.",
    "هنوز قلم را نگاه داشته بود و برای شوهرها دشوار بود که کلاریسا چطور است: این داستان را تعریف می‌کرد",
    "به همین دلیل وقتی به ان شیوه زمختش می‌گفت همسرانشان را مجاب کنند و در واقع هرقدر هم که سرسپرده در نهان خود نیز تردید داشتند که او علاقه‌ای به زنان داشته باشد که اغلب جلو دست و پای شوهرانشان را می‌گرفتند مانع می‌شدند که مست‌هایی در خارج از کشور را بپذیرند و می‌بایست آن‌ها را کلاریسا وسط دوره کار مجلس به کنار دریا برد تا آنفلوانزایشان درمان شود.",
    "با این حال زنان خوب می‌دانستند که پرسش او که بی برو برگرد علامتی است که جانب یک دوستدار مصاحبی تقریبا خاموش که گفته‌هایش شاید ده دوازده گفته‌ای چطور است در طول یک عمر حکایت از بازشناسی رفاقتی زنانه می‌کرد که در زیر مهمانی‌های ناهار مردانه جریان داشت و لیدی بروتن و خانم دلوی را که به ندرت یکدیگر را می‌دیدند و وقتی هم می‌دیدند بی اعتنا و حتی متخاصم جلوه می‌کردند در پیوندی یگانه متحد می‌کرد.",
    "هیو ویتبرد شیرجه زنان در خوراک مرغ بی قرار این قدردانی کوچک از خود آخر فقط کافی بود به لندن بیاید و همه را با هم ببیند اما میلی به راش در دل گفت طماع یکی از طماع‌ترین مردانی که تا به حال شناخته سان امروز صبح کلاریسا در پارک دیدم گفت اخر مردان را با صراحتی قاطع زیر نظر می‌گرفت و آن گونه گره گره که بود نخراشیده به کل بی بهره از هرگونه جذابیت زنانه ظرفیت سر سپردگی ابدی داشت به ویژه به همجنسان خودش.",
    "خبر دارید چه کسی در شهر است",
    "ناگهان به دقت فکر کرد لیدی بروتن گفت",
    "دوست قدیمی مان پیتر والش",
    "همه لبخند زدند.",
    "پیتر والش!",
    "و میلی به راش در دل گفت اقای دلوی هم از ته دل خوشحال است و آقای ویتبرد فقط به فکر مرغش است.",
    "هر سه لیدی بروتن هیو ویتبرد و ریچارد دلوی یک چیز را به یاد آوردند.",
    "که پیتر با چه شوی عاشق بود تقاضایش رد شده بود به هند رفته بود شکست خورده بود همه چیز را خراب کرده بود.",
    "ریچارد دلوی هم این رفیق نازنین قدیمی را چقدر دوست داشت.",
    "میلی برای این را می‌دید عمفی در قهوه‌ای چشمانش می‌دید دید که تأمل کرد سنجید که باریش جالب بود چنان که اقای دلوی همیشه برای جالب بود آخر از خود می‌پرسید که او دارد درباره پیتر والش چه فکری می‌کند؟",
    "اینکه پیتر والش عاشق کلاریسا بوده اینکه بلافاصله بعد از ناهار می‌رود و کلارسیا را پیدا می‌کند اینکه ثاف و پوست کنده به او می‌گوید که دوستش دارد.",
    "بله همین را می‌گفت.",
    "زمانی چیزی نمانده بود که میلی به راش عاشق این سکوت‌ها شوذ و آقای دلوی همیشه بسیار قابل اتکا بود و چه آقامنش هم بود.",
    "حال در چهل سالگی کافی بود لیدی بروتن سربجنباند یا کمی به سرعت سرش را بچرخاند.",
    "میلی به راش هرقدر هم که عمیقا غرق این تأملات روحی گستته باشد روحی تباه نشده که زندگی نتوانسته بود فریبش دهد چون زندگی دلخوشکتکی که کوچک‌ترین ارزشی داشته باشد به او نداده بود نه جعد زلفی نه لبخندی لبی گونه‌ای بینی ای هیچ و هیچ علامت را بگیرد کافی بود لیدی بروتن سری بجنباند تا او به پرکینز بگوید که باید زودتر قهوه را بیاورند.",
    "بله پیتر والش برگشته لیدی بروتن گفت بازگشته بود.",
    "غرور همه‌شان را بفهمی نفهمی ارضا می‌کرد.",
    "در هم شکسته ناکام به سواحل امن آنان",
    "تما با خود انیشیدند یاری دادن به او ناممکن است",
    "عیبی در شخصیتش هست.",
    "هیو ویتبرد گفت که البته می‌شود دوست قدیمی ام سفارش او را به فلان کس کرد.",
    "محزون خودپسند از فکر فکر نامه‌هایی که بایست به رؤسای ادارت دولتی درباره می‌نوشت و از این حرف‌ها صورتش درهم کشیده شد.",
    "اما به جایی نمی‌رسید به جایی ماندگار به دلیل شخصیتش.",
    "با زنی دچار دردسر شده است پورتن گفت",
    "همه حدس زده وبدند که در کنه ماجرا قاعدتا همین بایست باشد.",
    "در هر حال کل ماجرا را از زبان خود پیتر خواهین شنید.",
    "آوردن قهوه را خیلی طول داده بودند",
    "نشانی",
    "هیو ویتبرد زیر لب گفت افتاد",
    "منتظر مانند آقای ویتبرد کارش را تمام کرد تا قهوه بیاورند.",
]

pr_sentences_200 = [
    "لیدی بروتن در دل گفت هیو خلی کند است.",
    "متوجه شد که دارد چاق میوشد.",
    "ریچارد همیشه خودش را قبراق نگاه میداتشت.",
    "دیگر داشت بی طاقت می‌شد",
    "تمامی وجودش حال قاطعانه انگار ناپذیر سلطه حویانه همه این جزئیات نالازم پیتر والش و روابطش را از روی موضوعی که توهش را به خود مشغول کرده بود کنار می‌زد.",
    "نه فقط هم توجهش بل آن رشته‌ی را که دیزک روحش شده بود آن بخش حیاتی او که بدون آن میلیسنت بروتن میلیسنت بروتن نمی‌بود.",
    "همان پروژه مهاجرت دادن جوانانی از هر دو جنس از والدینی محترم و اسقرار دادن آن‌ها با اماکانت مناسب برای پیشرفت در کانادا.",
    "اغراق می‌کرد",
    "شاید درکش از تناسب امور را از دست داده بود.",
    "مهاجرت در نزد دیگران علاج بدیهی نبود فکری بکری عالی.",
    "در نظر آنان چه در نظر هیو یا ریچارد یا حتی دوشیزه به راش سر سپرده رهایی بخش آن خودپرستی اسیر نبود.",
    "زنی قوی و جنگیده با تربیتی درست تبرای نیک صاحب تکانه‌های صریح احساسات قاطع و قدرت درون نگری اندک صاف و ساده لیدی بروتن می‌پرسید.",
    "چرا همه نمی‌توانند صاف و ساده باشند؟",
    "جون جوانی‌اش گذشت احساس می‌کند که در درونش سر برمیدارد",
    "باید مفری بیابد خواه مهاجرت باشد خواه جنبش‌های آزادی خواهانه اما هرچه باشد این شیئی که جوهر روحش هرروز به دور ان ترشح می‌کرد لاجرح شفاف می‌شود پرتلألؤ نیمی آینه نیمی سنگی گرانبها گاه به دقت پنهان شده مبادا مردم استهزایش کنند گاه با غرور به نمایش درآمده.",
    "خلاصه اینکه مهاجرت عمدتا خود لیدی بروتن شده بود.",
    "اما ناچار بود بنویسد.",
    "و نوشتن نامه‌ای به تایمز چنان که معمولا به دوشیزه به راش می‌گفت برایش از سازمان دادن اعرام نیرو به آفریقای جنوبی که در زمان جنگ ترتیب داده وبد هزینه داشت.",
    "بعد از یک صبح تمام مبارزه شروع کردن پاره کردن دوباره شروع کردن بیهودگی زن بودنش را چنان احساس کرد که در هیچ موقعیت دیگری احساس نمی‌کرد و حق شناسانه به فکر هیو ویتبرد روی اورد که کسی نمی‌توانست تردید کند.",
    "صاحب هنر نامه نوشتن به تایمز بود.",
    "موجودی بار سرشتی چنین متفاوت با او با چنین سلطه‌ای بر زبان قادر به طرح مسئله به گونه‌ای که سردبیران دوست داشتند صاحب شهواتی که نمی‌شد خود را خلاص کرد و بر آن نام آز گذاشت.",
    "لیدی بروتن اغلب داوری درباره مردان را به حرمت سارگاری مرموزشان با قوانین جهان به تعویق می‌انداخت اما هیچ زنی چنین نبود می‌دانستند که چطور حرفشان را بزنند می‌دانستند.",
    "چه میگویند برای همین اگر ریچارد راهنمایی‌اش می‌کرد و هیو برایش می‌نوشت مطمئن می‌شد که به نحوی حق با اوست.",
    "برای همین گذاشت هیو سوفله‌اش را بخورد حال طفلک اولین را پرسید ثبر کرد تا وقتی سیگارهایشان را روشن کردند و بعد گفت:؟",
    "میلی می‌شود کاغذها را بیاوری",
    "دوشیزه به راش بیرون رفت برگشت",
    "کاغذها را روی میز گذاشت و هیو خودنویسش را درآورد",
    "خودنویس نقره‌اش که درش را که باز می‌کرد گفت بیست سال به او خدمت کرده است.",
    "هنوز هم صحیح و سالم بود",
    "آن را به سازندگانش نشان داده بود",
    "گفته بودند هیچ دلیلی ندارد",
    "هرگز فرسوده شود که به شکلی مایه سرفرازی هیو بود و همان طور که با دقت نوشتن حروف بزرگ را بر حاشیه کاغذ با حلقه‌هایی به دورشان شروع کرد ریچارد دلوی احساس می‌کرد مایه سرفرازی احساساتی که قلمش بیان می‌کرد به درشخان‌ترین وجهی از مخمصه‌های لیدی بروتن برای تفهیم مقصودش دستور زبان کاست طوری که لیدی بروتن این دگرگونی خارق العاده را که تماشا می‌کرد احساس کرد سردبیر تایمز حتما بدان احترام می‌گذارد.",
    "هیو کند بود.",
    "هیو پیگیره بود.",
    "ریچارد گفت که باید خطر کرد.",
    "هیو اصتلاحاتی برای رعایت احساسات آدم‌ها پیشنهاد کرد که وقتی ریچارد خندید تقریبا با بنابراین چگونه است که معتقدیم زمان مناسب فرا رسیده است …",
    "به نظر ریچارد مشتی مزخرفات و پرت و پلا بود",
    "اما البته ضرری نداشت …",
    "دینی که به مردگان داریم و هیو به تنظریم والاترین و بزرگ منششانه‌ترین احساسات به ترتیب حروف الفبا ادامه داد خاکستر سیگار برگ را از جلیقه‌اش تکاند و گهگاه پیشرفتی را که کرده بود جمعبندی کرد تا اینکه سرانجام پیش نویس نامه‌ای را خواند که لیدی بروتن تردید نداشت که شاهکار است.",
    "یعنی می‌شد منظور او چنین ادا شده باشد؟",
    "هیو نمی‌توانست تضمین کند که سردبیر این نامه را چاپ کند اما قرار بود در ضیافت ناهار کسی را ببیند.",
    "اینجا بود که لیدی بروتن که به ندرت ظرافت نشان می‌داد تمام گله‌ای میخک هیو را جلو لباسش فرو برد و دستانش را به هوا خطاب کرد.",
    "نمی‌دانست اکر آن‌ها نبودند چه می‌توانست بکند.",
    "بلند شدند",
    "و ریچارد دلوی مطابق معمول سلانه سلانه رفت تا نگاهی به پرتره ژنرال بکند چون قصد داشت هر وقت اندکی فراغت یافت تاریخچه خاندان لیدی بروتن را بنویسد.",
    "و میلیسنت بروتن به خاندانش سخت می‌بالید.",
    "به نقاشی که نگاه می‌کرد گفت می‌شود گذاشت برای بعد",
    "مقصودش این بود که خاندانش مردان نظامی مدیران دریاسالاران مردان اهل عمل بوده‌اند که وظیفه‌شان را انجام داده بودند.",
    "نخستین وظیفه ریچارد در قبال کشورش بود گفت اما چچهره زیبایی است و هروقت که زمانش رسید.",
    "تمام مدارک برای ریچارد در الدمیکستن آماده است مقصودش دولت حزب کارگر بود.",
]

## English Prompt - English to Persian

### Zeroshot

# Import your OpenAI API key
openai.api_key = ''

def get_completion(prompt, model="gpt-3.5-turbo"):
    if type(prompt) == str:
        messages = [{"role": "user", "content": prompt}]
    elif type(prompt) == list:
        messages = prompt

    response = openai.ChatCompletion.create(
        model=model,
        messages=messages,
        temperature=0,
    )
    return response['choices'][0]['message']['content']

def translate_and_save(sentences, source_language, target_language, output_file):
    # Prompt for machine translation task
    prompt_intro = (
        f"In this task, which is Machine Translation (MT), you will be presented with a sentence in {source_language}"
        f"You should translate it to {target_language} in the most appropriate way."
    )
    # Get the translation for each sentence and save it to a file
    with open(output_file, 'w', encoding='utf-8') as f:
        for sentence in sentences:
            prompt = f"{prompt_intro}\n{source_language} to {target_language}: {sentence}"

            # Get the translation for the current sentence
            response = get_completion(prompt)

            # Extract and save the translated sentence
            translated_sentence = response.strip()
            f.write(translated_sentence + '\n')

            # Add a delay of 20 seconds between requests
            time.sleep(20)

# translate_and_save(
#     en_sentences_200,
#     source_language="English",
#     target_language="Persian",
#     output_file="/content/drive/MyDrive/Openai/English Prompt/English to Persian/0shot/0-200.txt"
# )

enenpr0_file_path = "/content/Machine Translation Evaluation/Openai/English Prompt/English to Persian/0shot/ENPrompt-EN-PER-0shot.txt"

with open(enenpr0_file_path, "r") as file:
    enenpr0 = [line.strip() for line in file]

bleu = sacrebleu.corpus_bleu(enenpr0, [persian])

print(bleu)

### Oneshot

# Import your OpenAI API key
openai.api_key = ''

def get_completion(prompt, model="gpt-3.5-turbo"):
    if type(prompt) == str:
        messages = [{"role": "user", "content": prompt}]
    elif type(prompt) == list:
        messages = prompt

    response = openai.ChatCompletion.create(
        model=model,
        messages=messages,
        temperature=0,
    )
    return response['choices'][0]['message']['content']

def translate_and_save(sentences, source_language, target_language, output_file):
    # Prompt for machine translation task
    prompt_intro = (
        f"In this task, which is Machine Translation (MT), you will be presented with a sentence in {source_language}"
        f"You should translate it to {target_language} in the most appropriate way."

        f"Here is an example for this task, which is translating sentecnes from {source_language} to {target_language}:"
        "'This is a sample sentence that we are going to translate it.' -> 'این یک جمله‌ی نمونه است که می‌خواهیم آن را ترجمه کنیم.'"
    )

    # Get the translation for each sentence and save it to a file
    with open(output_file, 'w', encoding='utf-8') as f:
        for sentence in sentences:
            prompt = f"{prompt_intro}\n\n{source_language} to {target_language}: {sentence}"

            # Get the translation for the current sentence
            response = get_completion(prompt)

            # Extract and save the translated sentence
            translated_sentence = response.strip()
            f.write(translated_sentence + '\n')

            # Add a delay of 20 seconds between requests
            time.sleep(20)

# translate_and_save(
#     en_sentences_200,
#     source_language="English",
#     target_language="Persian",
#     output_file="/content/drive/MyDrive/Openai/English Prompt/English to Persian/1shot/0-200.txt"
# )

enenpr1_file_path = "/content/drive/MyDrive/MTEval/Openai/English Prompt/English to Persian/1shot/ENPrompt-EN-PER-1shot.txt"

with open(enenpr1_file_path, "r") as file:
    enenpr1 = [line.strip() for line in file]

bleu = sacrebleu.corpus_bleu(enenpr1, [persian])

print(bleu)

### Fewshot

# Import your OpenAI API key
openai.api_key = ''

def get_completion(prompt, model="gpt-3.5-turbo"):
    if type(prompt) == str:
        messages = [{"role": "user", "content": prompt}]
    elif type(prompt) == list:
        messages = prompt

    response = openai.ChatCompletion.create(
        model=model,
        messages=messages,
        temperature=0,  # You can adjust the temperature as needed
    )
    return response['choices'][0]['message']['content']

def translate_and_save(sentences, source_language, target_language, output_file):
    # Prompt for machine translation task
    prompt_intro = (
        f"In this task, which is Machine Translation (MT), you will be presented with a sentence in {source_language}"
        f"You should translate it to {target_language} in the most appropriate way."

        f"Here are some examples for this task, which is translating sentecnes from {source_language} to {target_language}:"
        "'I love programming.' -> 'من برنامه‌نویسی را دوست دارم.'"
        "'Cooking a delicious meal requires a combination of ingredients and techniques.' -> 'پخت یک وعده غذای خوشمزه نیازمند ترکیبی از مواد اولیه و تکنیک‌هاست.'"
        "'In the realm of artificial intelligence, neural networks play a pivotal role.' -> 'در دنیای هوش مصنوعی، شبکه‌های عصبی نقشی کلیدی ایفا می‌کنند.'"
    )
    # Get the translation for each sentence and save it to a file
    with open(output_file, 'w', encoding='utf-8') as f:
        for sentence in sentences:
            prompt = f"{prompt_intro}\n{source_language} to {target_language}: {sentence}"

            # Get the translation for the current sentence
            response = get_completion(prompt)

            # Extract and save the translated sentence
            translated_sentence = response.strip()
            f.write(translated_sentence + '\n')

            # Add a delay of 20 seconds between requests
            time.sleep(24)

# translate_and_save(
#     en_sentences_200,
#     source_language="English",
#     target_language="Persian",
#     output_file="/content/drive/MyDrive/Openai/English Prompt/English to Persian/3shot/0-200.txt"
# )

enenpr3_file_path = "/content/drive/MyDrive/MTEval/Openai/English Prompt/English to Persian/3shot/ENPrompt-EN-PER-3shot.txt"

with open(enenpr3_file_path, "r") as file:
    enenpr3 = [line.strip() for line in file]

bleu = sacrebleu.corpus_bleu(enenpr3, [persian])

print(bleu)

## English Prompt - Persian to English

### Zeroshot

# Import your OpenAI API key
openai.api_key = ''

def get_completion(prompt, model="gpt-3.5-turbo"):
    if type(prompt) == str:
        messages = [{"role": "user", "content": prompt}]
    elif type(prompt) == list:
        messages = prompt

    response = openai.ChatCompletion.create(
        model=model,
        messages=messages,
        temperature=0,  # You can adjust the temperature as needed
    )
    return response['choices'][0]['message']['content']

def translate_and_save(sentences, source_language, target_language, output_file):
    # Prompt for machine translation task
    prompt_intro = (
        f"In this task, which is Machine Translation (MT), you will be presented with a sentence in the {source_language} (Farsi) language."
        f"You should translate it to {target_language} in the most appropriate way."
    )
    # Get the translation for each sentence and save it to a file
    with open(output_file, 'w', encoding='utf-8') as f:
        for sentence in sentences:
            prompt = f"{prompt_intro}\n{source_language} to {target_language}: {sentence}"

            # Get the translation for the current sentence
            response = get_completion(prompt)

            # Extract and save the translated sentence
            translated_sentence = response.strip()
            f.write(translated_sentence + '\n')

            # Add a delay of 20 seconds between requests
            time.sleep(21)

# translate_and_save(
#     pr_sentences_200,
#     source_language="Persian",
#     target_language="English",
#     output_file="/content/drive/MyDrive/Openai/English Prompt/Persian to English/0shot/0-200.txt"
# )

enpren0_file_path = "/content/drive/MyDrive/MTEval/Openai/English Prompt/Persian to English/0shot/ENPrompt-PER-EN-0shot.txt"

with open(enpren0_file_path, "r") as file:
    enpren0 = [line.strip() for line in file]

bleu = sacrebleu.corpus_bleu(enpren0, [english])

print(bleu)

### Oneshot

# Import your actual OpenAI API key
openai.api_key = ''

def get_completion(prompt, model="gpt-3.5-turbo"):
    if type(prompt) == str:
        messages = [{"role": "user", "content": prompt}]
    elif type(prompt) == list:
        messages = prompt

    response = openai.ChatCompletion.create(
        model=model,
        messages=messages,
        temperature=0,  # You can adjust the temperature as needed
    )
    return response['choices'][0]['message']['content']

def translate_and_save(sentences, source_language, target_language, output_file):
    # Prompt for machine translation task
    prompt_intro = (
        f"In this task, which is Machine Translation (MT), you will be presented with a sentence in {source_language}"
        f"You should translate it to {target_language} in the most appropriate way."

        f"Here is an example for this task, which is translating sentecnes from {source_language} to {target_language}:"
        "'این یک جمله‌ی نمونه است که می‌خواهیم آن را ترجمه کنیم' -> 'This is a sample sentence that we are going to translate it.'"
    )

    # Get the translation for each sentence and save it to a file
    with open(output_file, 'w', encoding='utf-8') as f:
        for sentence in sentences:
            prompt = f"{prompt_intro}\n{source_language} to {target_language}: {sentence}"

            # Get the translation for the current sentence
            response = get_completion(prompt)

            # Extract and save the translated sentence
            translated_sentence = response.strip()
            f.write(translated_sentence + '\n')

            # Add a delay of 20 seconds between requests
            time.sleep(21)

# translate_and_save(
#     pr_sentences_200,
#     source_language="Persian",
#     target_language="English",
#     output_file="/content/drive/MyDrive/Openai/English Prompt/Persian to English/1shot/0-200.txt"
# )

enpren1_file_path = "/content/drive/MyDrive/MTEval/Openai/English Prompt/Persian to English/1shot/ENPrompt-PER-EN-1shot.txt"

with open(enpren1_file_path, "r") as file:
    enpren1 = [line.strip() for line in file]

bleu = sacrebleu.corpus_bleu(enpren1, [english])

print(bleu)

### Fewshot

# Import your actual OpenAI API key
openai.api_key = ''

def get_completion(prompt, model="gpt-3.5-turbo"):
    if type(prompt) == str:
        messages = [{"role": "user", "content": prompt}]
    elif type(prompt) == list:
        messages = prompt

    response = openai.ChatCompletion.create(
        model=model,
        messages=messages,
        temperature=0,  # You can adjust the temperature as needed
    )
    return response['choices'][0]['message']['content']

def translate_and_save(sentences, source_language, target_language, output_file):
    # Prompt for machine translation task
    prompt_intro = (
        f"In this task, which is Machine Translation (MT), you will be presented with a sentence in {source_language}"
        f"You should translate it to {target_language} in the most appropriate way."

        f"Here is an example for this task, which is translating sentecnes from {source_language} to {target_language}:"
        "'من عاشق برنامه‌نویسی هستم.' -> 'I love programming.'"
        "'پخت یک وعده غذای خوشمزه نیازمند ترکیبی از مواد اولیه و تکنیک‌هاست.' -> 'Cooking a delicious meal requires a combination of ingredients and techniques.'"
        "'در دنیای هوش مصنوعی، شبکه‌های عصبی نقشی کلیدی ایفا می‌کنند.' -> 'In the realm of artificial intelligence, neural networks play a pivotal role.'"
    )

    # Get the translation for each sentence and save it to a file
    with open(output_file, 'w', encoding='utf-8') as f:
        for sentence in sentences:
            prompt = f"{prompt_intro}\n{source_language} to {target_language}: {sentence}"

            # Get the translation for the current sentence
            response = get_completion(prompt)

            # Extract and save the translated sentence
            translated_sentence = response.strip()
            f.write(translated_sentence + '\n')

            # Add a delay of 20 seconds between requests
            time.sleep(20)

# translate_and_save(
#     pr_sentences_200,
#     source_language="Persian",
#     target_language="English",
#     output_file="/content/drive/MyDrive/Openai/English Prompt/Persian to English/3shot/0-200.txt"
# )

enpren3_file_path = "/content/drive/MyDrive/MTEval/Openai/English Prompt/Persian to English/3shot/ENPrompt-PER-EN-3shot.txt"

with open(enpren3_file_path, "r") as file:
    enpren3 = [line.strip() for line in file]

bleu = sacrebleu.corpus_bleu(enpren3, [english])

print(bleu)

## Persian Prompt - English to Persian

### Zeroshot

# Import your OpenAI API key
openai.api_key = ''

def get_completion(prompt, model="gpt-3.5-turbo"):
    if type(prompt) == str:
        messages = [{"role": "user", "content": prompt}]
    elif type(prompt) == list:
        messages = prompt

    response = openai.ChatCompletion.create(
        model=model,
        messages=messages,
        temperature=0,  # You can adjust the temperature as needed
    )
    return response['choices'][0]['message']['content']

def translate_and_save(sentences, source_language, target_language, output_file):
    # Prompt for machine translation task
    prompt_intro = (
        "در ادامه‌، وظیفه‌ (تکلیفی) برای شما درنظر گرفته شده است، که مربوط به  ترجمه ماشینی است. "
        "به این منظور جمله‌ای به زبان انگلیسی به شما نشان داده می‌شود. "
        "در نتیجه، شما باید آن جمله را به شکل مناسب و دقیق به زبان فارسی ترجمه کنید."
    )

    # Get the translation for each sentence and save it to a file
    with open(output_file, 'w', encoding='utf-8') as f:
        for sentence in sentences:
            prompt = f"{prompt_intro}\n\nجمله زیر به زبان فارسی است و باید به زبان انگلیسی ترجمه شود:\n {sentence}"

            # Get the translation for the current sentence
            response = get_completion(prompt)

            # Extract and save the translated sentence
            translated_sentence = response.strip()
            f.write(translated_sentence + '\n')

            # Add a delay of 20 seconds between requests
            time.sleep(20)

# translate_and_save(
#     en_sentences_200,
#     source_language="English",
#     target_language="Persian",
#     output_file="/content/drive/MyDrive/Openai/Persian Prompt/English to Persian/1shot/0-200.txt"
# )

prener0_file_path = "/content/drive/MyDrive/MTEval/Openai/Persian Prompt/English to Persian/0shot/PERPrompt-EN-PER-0shot.txt"

with open(prener0_file_path, "r") as file:
    prener0 = [line.strip() for line in file]

bleu = sacrebleu.corpus_bleu(prener0, [persian])

print(bleu)

### Oneshot

# Import your OpenAI API key
openai.api_key = ''

def get_completion(prompt, model="gpt-3.5-turbo"):
    if type(prompt) == str:
        messages = [{"role": "user", "content": prompt}]
    elif type(prompt) == list:
        messages = prompt

    response = openai.ChatCompletion.create(
        model=model,
        messages=messages,
        temperature=0,  # You can adjust the temperature as needed
    )
    return response['choices'][0]['message']['content']

def translate_and_save(sentences, source_language, target_language, output_file):
    # Prompt for machine translation task
    prompt_intro = (
        "در ادامه‌، وظیفه‌ (تکلیفی) برای شما درنظر گرفته شده است، که مربوط به  ترجمه ماشینی است. "
        "به این منظور جمله‌ای به زبان انگلیسی به شما نشان داده می‌شود. "
        "در نتیجه، شما باید آن جمله را به شکل مناسب و دقیق به زبان فارسی ترجمه کنید."

        " مثالی از ترجمه‌ی جمله‌ی نمونه از زبان انگلیسی به زبان فارسی:"
        " 'This is a sample sentence that we are going to translate it.' -> 'این یک جمله‌ی نمونه است که می‌خواهیم آن را ترجمه کنیم.'"
    )

    # Get the translation for each sentence and save it to a file
    with open(output_file, 'w', encoding='utf-8') as f:
        for sentence in sentences:
            prompt = f"{prompt_intro}\n\nجمله زیر به زبان فارسی است و باید به زبان انگلیسی ترجمه شود:\n {sentence}"

            # Get the translation for the current sentence
            response = get_completion(prompt)

            # Extract and save the translated sentence
            translated_sentence = response.strip()
            f.write(translated_sentence + '\n')

            # Add a delay of 20 seconds between requests
            time.sleep(20)

# translate_and_save(
#     en_sentences_200,
#     source_language="English",
#     target_language="Persian",
#     output_file="/content/drive/MyDrive/Openai/Persian Prompt/English to Persian/1shot/0-200.txt"
# )

prener1_file_path = "/content/drive/MyDrive/MTEval/Openai/Persian Prompt/English to Persian/1shot/PERPrompt-EN-PER-1shot.txt"

with open(prener1_file_path, "r") as file:
    prener1 = [line.strip() for line in file]

bleu = sacrebleu.corpus_bleu(prener1, [persian])

print(bleu)

### Fewshot

# Import your OpenAI API key
openai.api_key = ''

def get_completion(prompt, model="gpt-3.5-turbo"):
    if type(prompt) == str:
        messages = [{"role": "user", "content": prompt}]
    elif type(prompt) == list:
        messages = prompt

    response = openai.ChatCompletion.create(
        model=model,
        messages=messages,
        temperature=0,  # You can adjust the temperature as needed
    )
    return response['choices'][0]['message']['content']

def translate_and_save(sentences, source_language, target_language, output_file):
    # Prompt for machine translation task
    prompt_intro = (
        "در ادامه‌، وظیفه‌ (تکلیفی) برای شما درنظر گرفته شده است، که مربوط به  ترجمه ماشینی است. "
        "به این منظور جمله‌ای به زبان انگلیسی به شما نشان داده می‌شود. "
        "در نتیجه، شما باید آن جمله را به شکل مناسب و دقیق به زبان فارسی ترجمه کنید."

        " مثال‌هایی از ترجمه‌ی جملات نمونه از زبان انگلیسی به زبان فارسی:"
        "'I love programming.' -> 'من برنامه‌نویسی را دوست دارم.'"
        "'Cooking a delicious meal requires a combination of ingredients and techniques.' -> 'پخت یک وعده غذای خوشمزه نیازمند ترکیبی از مواد اولیه و تکنیک‌هاست.'"
        "'In the realm of artificial intelligence, neural networks play a pivotal role.' -> 'در دنیای هوش مصنوعی، شبکه‌های عصبی نقشی کلیدی ایفا می‌کنند.'"    )

    # Get the translation for each sentence and save it to a file
    with open(output_file, 'w', encoding='utf-8') as f:
        for sentence in sentences:
            prompt = f"{prompt_intro}\n\nجمله زیر به زبان فارسی است و باید به زبان انگلیسی ترجمه شود:\n {sentence}"

            # Get the translation for the current sentence
            response = get_completion(prompt)

            # Extract and save the translated sentence
            translated_sentence = response.strip()
            f.write(translated_sentence + '\n')

            # Add a delay of 20 seconds between requests
            time.sleep(20)

# translate_and_save(
#     en_sentences_200,
#     source_language="English",
#     target_language="Persian",
#     output_file="/content/drive/MyDrive/Openai/Persian Prompt/English to Persian/3shot/0-200.txt"
# )

prener3_file_path = "/content/drive/MyDrive/MTEval/Openai/Persian Prompt/English to Persian/3shot/PERPrompt-EN-PER-3shot.txt"

with open(prener3_file_path, "r") as file:
    prener3 = [line.strip() for line in file]

bleu = sacrebleu.corpus_bleu(prener3, [persian])

print(bleu)

## Persian Prompt - Persian to English

### Zeroshot

# Import your OpenAI API key
openai.api_key = ''

def get_completion(prompt, model="gpt-3.5-turbo"):
    if type(prompt) == str:
        messages = [{"role": "user", "content": prompt}]
    elif type(prompt) == list:
        messages = prompt

    response = openai.ChatCompletion.create(
        model=model,
        messages=messages,
        temperature=0,  # You can adjust the temperature as needed
    )
    return response['choices'][0]['message']['content']

def translate_and_save(sentences, source_language, target_language, output_file):
    # Prompt for machine translation task
    prompt_intro = (
        "در ادامه‌، وظیفه‌ (تکلیفی) برای شما درنظر گرفته شده است، که مربوط به  ترجمه ماشینی است. "
        "به این منظور جمله‌ای به زبان فارسی به شما نشان داده می‌شود. "
        "در نتیجه، شما باید آن جمله را به شکل مناسب و دقیق به زبان انگلیسی ترجمه کنید."
    )
    # Get the translation for each sentence and save it to a file
    with open(output_file, 'w', encoding='utf-8') as f:
        for sentence in sentences:
            prompt = f"{prompt_intro}\n\nجمله زیر به زبان فارسی است و باید به زبان انگلیسی ترجمه شود:\n {sentence}"

            # Get the translation for the current sentence
            response = get_completion(prompt)

            # Extract and save the translated sentence
            translated_sentence = response.strip()
            f.write(translated_sentence + '\n')

            # Add a delay of 20 seconds between requests
            time.sleep(20)

# translate_and_save(
#     pr_sentences_200,
#     source_language="Persian",
#     target_language="English",
#     output_file="/content/drive/MyDrive/Openai/Persian Prompt/Persian to English/0shot/0-200.txt",
# )

prpren0_file_path = "/content/drive/MyDrive/MTEval/Openai/Persian Prompt/Persian to English/0shot/PERPrompt-PER-EN-0shot.txt"

with open(prpren0_file_path, "r") as file:
    prpren0 = [line.strip() for line in file]

bleu = sacrebleu.corpus_bleu(prpren0, [english])

print(bleu)

### Oneshot

# Import your OpenAI API key
openai.api_key = ''

def get_completion(prompt, model="gpt-3.5-turbo"):
    if type(prompt) == str:
        messages = [{"role": "user", "content": prompt}]
    elif type(prompt) == list:
        messages = prompt

    response = openai.ChatCompletion.create(
        model=model,
        messages=messages,
        temperature=0,
    )
    return response['choices'][0]['message']['content']

def translate_and_save(sentences, source_language, target_language, output_file):
    # Prompt for machine translation task
    prompt_intro = (
        "در ادامه‌، وظیفه‌ (تکلیفی) برای شما درنظر گرفته شده است، که مربوط به  ترجمه ماشینی است. "
        "به این منظور جمله‌ای به زبان فارسی به شما نشان داده می‌شود. "
        "در نتیجه، شما باید آن جمله را به شکل مناسب و دقیق به زبان انگلیسی ترجمه کنید."

        " مثالی از ترجمه‌ی جمله‌ی نمونه از زبان فارسی به زبان انگلیسی:"
        " 'This is a sample sentence that we are going to translate it.' <- 'این یک جمله‌ی نمونه است که می‌خواهیم آن را ترجمه کنیم.'"
    )
    # Get the translation for each sentence and save it to a file
    with open(output_file, 'w', encoding='utf-8') as f:
        for sentence in sentences:
            prompt = f"{prompt_intro}\n\nهمچون مثال بالا جمله زیر نیز به زبان فارسی است و باید به زبان انگلیسی ترجمه شود:\n {sentence}"

            # Get the translation for the current sentence
            response = get_completion(prompt)

            # Extract and save the translated sentence
            translated_sentence = response.strip()
            f.write(translated_sentence + '\n')

            # Add a delay of 20 seconds between requests
            time.sleep(20)

# translate_and_save(
#     pr_sentences_200,
#     source_language="Persian",
#     target_language="English",
#     output_file="/content/drive/MyDrive/Openai/Persian Prompt/Persian to English/1shot/0-200.txt",
# )

prpren1_file_path = "/content/drive/MyDrive/MTEval/Openai/Persian Prompt/Persian to English/1shot/PERPrompt-PER-EN-1shot.txt"

with open(prpren1_file_path, "r") as file:
    prpren1 = [line.strip() for line in file]

bleu = sacrebleu.corpus_bleu(prpren1, [english])

print(bleu)

### Fewshot

# Import your OpenAI API key
openai.api_key = ''

def get_completion(prompt, model="gpt-3.5-turbo"):
    if type(prompt) == str:
        messages = [{"role": "user", "content": prompt}]
    elif type(prompt) == list:
        messages = prompt

    response = openai.ChatCompletion.create(
        model=model,
        messages=messages,
        temperature=0,  # You can adjust the temperature as needed
    )
    return response['choices'][0]['message']['content']

def translate_and_save(sentences, source_language, target_language, output_file):
    # Prompt for machine translation task
    prompt_intro = (
        "در ادامه‌، وظیفه‌ (تکلیفی) برای شما درنظر گرفته شده است، که مربوط به  ترجمه ماشینی است. "
        "به این منظور جمله‌ای به زبان فارسی به شما نشان داده می‌شود. "
        "در نتیجه، شما باید آن جمله را به شکل مناسب و دقیق به زبان انگلیسی ترجمه کنید."

        " مثال‌هایی از ترجمه‌ی جملات نمونه از زبان فارسی به زبان انگلیسی:"
        "'I love programming.' <- 'من برنامه‌نویسی را دوست دارم.'"
        "'Cooking a delicious meal requires a combination of ingredients and techniques.' <- 'پخت یک وعده غذای خوشمزه نیازمند ترکیبی از مواد اولیه و تکنیک‌هاست.'"
        "'In the realm of artificial intelligence, neural networks play a pivotal role.' <- 'در دنیای هوش مصنوعی، شبکه‌های عصبی نقشی کلیدی ایفا می‌کنند.'"
    )

    # Get the translation for each sentence and save it to a file
    with open(output_file, 'w', encoding='utf-8') as f:
        for sentence in sentences:
            prompt = f"{prompt_intro}\n\nهمچون مثال‌های بالا جمله زیر نیز به زبان فارسی است و باید به زبان انگلیسی ترجمه شود:\n {sentence}"

            # Get the translation for the current sentence
            response = get_completion(prompt)

            # Extract and save the translated sentence
            translated_sentence = response.strip()
            f.write(translated_sentence + '\n')

            # Add a delay of 20 seconds between requests
            time.sleep(20)

# translate_and_save(
#     pr_sentences_200,
#     source_language="Persian",
#     target_language="English",
#     output_file="/content/drive/MyDrive/Openai/Persian Prompt/Persian to English/3shot/0-200.txt",
# )

prpren3_file_path = "/content/drive/MyDrive/MTEval/Openai/Persian Prompt/Persian to English/3shot/PERPrompt-PER-EN-3shot.txt"

with open(prpren3_file_path, "r") as file:
    prpren3 = [line.strip() for line in file]

bleu = sacrebleu.corpus_bleu(prpren3, [english])

print(bleu)
